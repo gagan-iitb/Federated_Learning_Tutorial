{
  "nbformat": 4,
  "nbformat_minor": 0,
  "metadata": {
    "colab": {
      "provenance": [],
      "gpuType": "T4"
    },
    "kernelspec": {
      "name": "python3",
      "display_name": "Python 3"
    },
    "language_info": {
      "name": "python"
    },
    "accelerator": "GPU"
  },
  "cells": [
    {
      "cell_type": "markdown",
      "source": [
        "# Federated Learning on CIFAR-10 Using ResNet-18.\n",
        "\n",
        "This notebook demonstrates a simple implementation of Federated Learning using the ResNet18 model for image classification on the CIFAR-10 dataset. The process includes the following steps:\n",
        "\n",
        "\n",
        "1.   Dataset Preparation: CIFAR-10 dataset is split into subsets for multiple clients, each with 500 samples.\n",
        "2.   Client-Side Training: Each client trains a model locally using a subset of the CIFAR-10 dataset. Only the final classification layer of ResNet18 is trained, while the pre-trained weights of the rest of the layers are frozen.\n",
        "3. Model Aggregation: After each client completes training, their model weights are aggregated using Federated Averaging, which averages the weights of each model.\n",
        "4. Evaluation: The aggregated model is evaluated on a small test subset, and the accuracy of each individual client model is also assessed.\n",
        "\n",
        "This approach demonstrates the core principles of Federated Learning, where models are trained locally on different clients and then combined to create a global model."
      ],
      "metadata": {
        "id": "5RbcCfZmxCS9"
      }
    },
    {
      "cell_type": "code",
      "source": [
        "# import all dependencies\n",
        "import torch\n",
        "import torch.nn as nn\n",
        "import torchvision\n",
        "import torchvision.transforms as transforms\n",
        "import torchvision.models as models\n",
        "import torch.optim as optim\n",
        "import random\n",
        "import os"
      ],
      "metadata": {
        "id": "8TVqLRxzioMZ"
      },
      "execution_count": null,
      "outputs": []
    },
    {
      "cell_type": "code",
      "source": [
        "# Step 1: Define Transform and Dataset\n",
        "def get_datasets():\n",
        "    transform = transforms.Compose([\n",
        "        transforms.Resize((224, 224)),\n",
        "        transforms.ToTensor(),\n",
        "        transforms.Normalize((0.5, 0.5, 0.5), (0.5, 0.5, 0.5))\n",
        "    ])\n",
        "    cifar_train = torchvision.datasets.CIFAR10(root='./data', train=True, download=True, transform=transform)\n",
        "    cifar_test = torchvision.datasets.CIFAR10(root='./data', train=False, download=True, transform=transform)\n",
        "    return cifar_train, cifar_test\n"
      ],
      "metadata": {
        "id": "PJ0WWzQbvA9h"
      },
      "execution_count": null,
      "outputs": []
    },
    {
      "cell_type": "code",
      "source": [
        "# Step 2: Define the Model\n",
        "def get_resnet_model(num_classes=10):\n",
        "    model = models.resnet18(pretrained=True)\n",
        "    for param in model.parameters():\n",
        "        param.requires_grad = False\n",
        "    in_features = model.fc.in_features\n",
        "    model.fc = nn.Linear(in_features, num_classes)\n",
        "    return model"
      ],
      "metadata": {
        "id": "1RqKegbxvBKz"
      },
      "execution_count": null,
      "outputs": []
    },
    {
      "cell_type": "code",
      "source": [
        "# Step 3: Train a Single Client\n",
        "def train_client(client_id, train_loader, num_epochs=10):\n",
        "    print(\"\\n\")\n",
        "    print(f\"Training Client {client_id}\")\n",
        "    model = get_resnet_model()\n",
        "    criterion = nn.CrossEntropyLoss()\n",
        "    optimizer = optim.SGD(model.fc.parameters(), lr=0.001, momentum=0.9)\n",
        "\n",
        "    model.train()\n",
        "    for epoch in range(num_epochs):\n",
        "        running_loss = 0.0\n",
        "        for i, (inputs, labels) in enumerate(train_loader):\n",
        "            optimizer.zero_grad()\n",
        "            outputs = model(inputs)\n",
        "            loss = criterion(outputs, labels)\n",
        "            loss.backward()\n",
        "            optimizer.step()\n",
        "            running_loss += loss.item()\n",
        "        print(f\"Client {client_id}, Epoch {epoch + 1}, Loss: {running_loss / (i + 1):.4f}\")\n",
        "    return model"
      ],
      "metadata": {
        "id": "f601kq5uvBOM"
      },
      "execution_count": null,
      "outputs": []
    },
    {
      "cell_type": "code",
      "source": [
        "# Step 4: Save Model Weights\n",
        "def save_model(model, filename):\n",
        "    path = os.path.join('/content/', filename)\n",
        "    torch.save(model.state_dict(), path)\n",
        "    print(f\"Model saved as {path}\")\n",
        "    return path\n"
      ],
      "metadata": {
        "id": "de9vQGLPvBRw"
      },
      "execution_count": null,
      "outputs": []
    },
    {
      "cell_type": "code",
      "source": [
        "# Step 5: Aggregate Weights\n",
        "def federated_averaging(models):\n",
        "    print(\"\\nPerforming Federated Averaging...\")\n",
        "    avg_weights = {key: torch.mean(torch.stack([model.state_dict()[key].float() for model in models]), dim=0)\n",
        "                   for key in models[0].state_dict()}\n",
        "    aggregated_model = get_resnet_model()\n",
        "    aggregated_model.load_state_dict(avg_weights)\n",
        "    return aggregated_model"
      ],
      "metadata": {
        "id": "f4366fI-vNml"
      },
      "execution_count": null,
      "outputs": []
    },
    {
      "cell_type": "code",
      "source": [
        "\n",
        "# Step 6: Evaluate a Model\n",
        "def evaluate_model(model, test_loader):\n",
        "    model.eval()\n",
        "    correct = 0\n",
        "    total = 0\n",
        "    with torch.no_grad():\n",
        "        for inputs, labels in test_loader:\n",
        "            outputs = model(inputs)\n",
        "            _, predicted = torch.max(outputs, 1)\n",
        "            total += labels.size(0)\n",
        "            correct += (predicted == labels).sum().item()\n",
        "    accuracy = 100 * correct / total\n",
        "    return accuracy"
      ],
      "metadata": {
        "id": "FV0vaDa_vNp5"
      },
      "execution_count": null,
      "outputs": []
    },
    {
      "cell_type": "code",
      "source": [
        "\n",
        "# Main Function\n",
        "if __name__ == \"__main__\":\n",
        "    # Prepare Datasets\n",
        "    cifar_train, cifar_test = get_datasets()\n",
        "\n",
        "    # Federated Learning Setup\n",
        "    num_clients = 5\n",
        "    num_samples_per_client = 500\n",
        "    num_epochs = 5\n",
        "    train_loaders = []\n",
        "    models_list = []\n",
        "\n",
        "    for client_id in range(num_clients):\n",
        "        indices = torch.randperm(len(cifar_train))[:num_samples_per_client]\n",
        "        subset = torch.utils.data.Subset(cifar_train, indices)\n",
        "        train_loader = torch.utils.data.DataLoader(subset, batch_size=32, shuffle=True)\n",
        "        train_loaders.append(train_loader)\n",
        "\n",
        "        model = train_client(client_id + 1, train_loader, num_epochs=num_epochs)\n",
        "        models_list.append(model)\n",
        "\n",
        "        # Save Model\n",
        "        save_model(model, f\"resnet18_client_{client_id + 1}.pt\")\n",
        "\n",
        "    # Perform Federated Averaging\n",
        "    aggregated_model = federated_averaging(models_list)\n",
        "    save_model(aggregated_model, \"avg_resnet18.pt\")\n",
        "\n",
        "    # Test Aggregated Model\n",
        "    test_loader = torch.utils.data.DataLoader(torch.utils.data.Subset(cifar_test, random.sample(range(len(cifar_test)), 50)), batch_size=1)\n",
        "    aggregated_accuracy = evaluate_model(aggregated_model, test_loader)\n",
        "    print(\"\\nEvaluating Averaged Model\")\n",
        "    print(f\"Averaged Model Accuracy: {aggregated_accuracy:.2f}%\")\n",
        "\n",
        "    # Test Individual Models\n",
        "    print(\"\\nEvaluating Individual Client Models\")\n",
        "    for client_id, model in enumerate(models_list):\n",
        "        accuracy = evaluate_model(model, test_loader)\n",
        "        print(f\"Client {client_id + 1} Model Accuracy: {accuracy:.2f}%\")"
      ],
      "metadata": {
        "colab": {
          "base_uri": "https://localhost:8080/"
        },
        "id": "E9Qqid5ovNtN",
        "outputId": "ec0b7beb-ea86-4d10-d67f-04e97d29f709"
      },
      "execution_count": null,
      "outputs": [
        {
          "output_type": "stream",
          "name": "stdout",
          "text": [
            "Downloading https://www.cs.toronto.edu/~kriz/cifar-10-python.tar.gz to ./data/cifar-10-python.tar.gz\n"
          ]
        },
        {
          "output_type": "stream",
          "name": "stderr",
          "text": [
            "100%|██████████| 170M/170M [00:17<00:00, 9.60MB/s]\n"
          ]
        },
        {
          "output_type": "stream",
          "name": "stdout",
          "text": [
            "Extracting ./data/cifar-10-python.tar.gz to ./data\n",
            "Files already downloaded and verified\n",
            "\n",
            "\n",
            "Training Client 1\n"
          ]
        },
        {
          "output_type": "stream",
          "name": "stderr",
          "text": [
            "/usr/local/lib/python3.10/dist-packages/torchvision/models/_utils.py:208: UserWarning: The parameter 'pretrained' is deprecated since 0.13 and may be removed in the future, please use 'weights' instead.\n",
            "  warnings.warn(\n",
            "/usr/local/lib/python3.10/dist-packages/torchvision/models/_utils.py:223: UserWarning: Arguments other than a weight enum or `None` for 'weights' are deprecated since 0.13 and may be removed in the future. The current behavior is equivalent to passing `weights=ResNet18_Weights.IMAGENET1K_V1`. You can also use `weights=ResNet18_Weights.DEFAULT` to get the most up-to-date weights.\n",
            "  warnings.warn(msg)\n",
            "Downloading: \"https://download.pytorch.org/models/resnet18-f37072fd.pth\" to /root/.cache/torch/hub/checkpoints/resnet18-f37072fd.pth\n",
            "100%|██████████| 44.7M/44.7M [00:00<00:00, 198MB/s]\n"
          ]
        },
        {
          "output_type": "stream",
          "name": "stdout",
          "text": [
            "Client 1, Epoch 1, Loss: 2.4114\n",
            "Client 1, Epoch 2, Loss: 2.0779\n",
            "Client 1, Epoch 3, Loss: 1.7546\n",
            "Client 1, Epoch 4, Loss: 1.5381\n",
            "Client 1, Epoch 5, Loss: 1.3699\n",
            "Model saved as /content/resnet18_client_1.pt\n",
            "\n",
            "\n",
            "Training Client 2\n",
            "Client 2, Epoch 1, Loss: 2.4401\n",
            "Client 2, Epoch 2, Loss: 2.1313\n",
            "Client 2, Epoch 3, Loss: 1.8229\n",
            "Client 2, Epoch 4, Loss: 1.5910\n",
            "Client 2, Epoch 5, Loss: 1.3885\n",
            "Model saved as /content/resnet18_client_2.pt\n",
            "\n",
            "\n",
            "Training Client 3\n",
            "Client 3, Epoch 1, Loss: 2.3791\n",
            "Client 3, Epoch 2, Loss: 2.0709\n",
            "Client 3, Epoch 3, Loss: 1.8133\n",
            "Client 3, Epoch 4, Loss: 1.5934\n",
            "Client 3, Epoch 5, Loss: 1.4287\n",
            "Model saved as /content/resnet18_client_3.pt\n",
            "\n",
            "\n",
            "Training Client 4\n",
            "Client 4, Epoch 1, Loss: 2.3260\n",
            "Client 4, Epoch 2, Loss: 2.0214\n",
            "Client 4, Epoch 3, Loss: 1.7551\n",
            "Client 4, Epoch 4, Loss: 1.5411\n",
            "Client 4, Epoch 5, Loss: 1.3835\n",
            "Model saved as /content/resnet18_client_4.pt\n",
            "\n",
            "\n",
            "Training Client 5\n",
            "Client 5, Epoch 1, Loss: 2.4222\n",
            "Client 5, Epoch 2, Loss: 2.0690\n",
            "Client 5, Epoch 3, Loss: 1.7768\n",
            "Client 5, Epoch 4, Loss: 1.5263\n",
            "Client 5, Epoch 5, Loss: 1.3840\n",
            "Model saved as /content/resnet18_client_5.pt\n",
            "\n",
            "Performing Federated Averaging...\n",
            "Model saved as /content/avg_resnet18.pt\n",
            "\n",
            "Evaluating Averaged Model\n",
            "Averaged Model Accuracy: 70.00%\n",
            "\n",
            "Evaluating Individual Client Models\n",
            "Client 1 Model Accuracy: 58.00%\n",
            "Client 2 Model Accuracy: 58.00%\n",
            "Client 3 Model Accuracy: 58.00%\n",
            "Client 4 Model Accuracy: 64.00%\n",
            "Client 5 Model Accuracy: 60.00%\n"
          ]
        }
      ]
    }
  ]
}