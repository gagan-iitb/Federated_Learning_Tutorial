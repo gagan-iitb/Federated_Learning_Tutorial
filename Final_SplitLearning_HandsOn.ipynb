{
  "cells": [
    {
      "cell_type": "markdown",
      "metadata": {
        "id": "C_YL7uKLr4U9"
      },
      "source": [
        "# Split Learning on CIFAR-10 Using ResNet-18.\n",
        "This notebook demonstrates Split Learning using the CIFAR-10 dataset. The experiment involves:\n",
        "\n",
        "1. Data Preparation: This ensures that the data distribution varies across clients, simulating a real-world federated learning setup where data is typically non-IID (non-identically and independently distributed).\n",
        "\n",
        "2.   Client-Server Architecture: Each client trains the first few layers of a ResNet-18 model (client-side model), while the server trains the final layers (server-side model). Only intermediate representations are exchanged between the client and server, preserving data privacy.\n",
        "3.   Federated Averaging: Five clients are used, each trained on a unique random subset of 500 samples. After training, the server models are averaged to create a global model.\n",
        "4. Inference and Evaluation: Individual client models are evaluated on a common test subset of 50 samples. The averaged global model is also evaluated to compare its performance with individual client models.\n",
        "\n",
        "\n",
        "This setup demonstrates the feasibility of combining Federated Learning and Split Learning for privacy-preserving distributed training while leveraging model aggregation for enhanced performance."
      ]
    },
    {
      "cell_type": "code",
      "execution_count": null,
      "metadata": {
        "id": "B0xjyN7Xpwne"
      },
      "outputs": [],
      "source": [
        "# import all dependencies\n",
        "import torch\n",
        "import torch.nn as nn\n",
        "import torch.optim as optim\n",
        "from torchvision import datasets, transforms, models"
      ]
    },
    {
      "cell_type": "code",
      "execution_count": null,
      "metadata": {
        "id": "L5W2dRdPp3vo"
      },
      "outputs": [],
      "source": [
        "# Function to prepare datasets and loaders\n",
        "def get_datasets():\n",
        "    transform = transforms.Compose([\n",
        "        transforms.Resize((224, 224)),\n",
        "        transforms.ToTensor(),\n",
        "        transforms.Normalize((0.4914, 0.4822, 0.4465), (0.2023, 0.1994, 0.2010))\n",
        "    ])\n",
        "\n",
        "    full_dataset = datasets.CIFAR10(root='./data', train=True, download=True, transform=transform)\n",
        "    client_subsets = [torch.utils.data.Subset(full_dataset, torch.randperm(len(full_dataset))[:500]) for _ in range(5)]\n",
        "    train_loaders = [torch.utils.data.DataLoader(subset, batch_size=32, shuffle=True) for subset in client_subsets]\n",
        "\n",
        "    test_dataset = datasets.CIFAR10(root='./data', train=False, download=True, transform=transform)\n",
        "    test_subset = torch.utils.data.Subset(test_dataset, torch.randperm(len(test_dataset))[:50])\n",
        "    test_loader = torch.utils.data.DataLoader(test_subset, batch_size=32, shuffle=False)\n",
        "\n",
        "    return train_loaders, test_loader"
      ]
    },
    {
      "cell_type": "code",
      "execution_count": null,
      "metadata": {
        "id": "sgCZk6gEpwxf"
      },
      "outputs": [],
      "source": [
        "# Function to create ResNet-based client and server models\n",
        "def get_resnet_model(client_layers, server_start, server_end, output_classes=10):\n",
        "    class ClientModel(nn.Module):\n",
        "        def __init__(self):\n",
        "            super(ClientModel, self).__init__()\n",
        "            resnet = models.resnet18(pretrained=True)\n",
        "            self.client_part = nn.Sequential(*list(resnet.children())[:client_layers])\n",
        "\n",
        "        def forward(self, x):\n",
        "            return self.client_part(x)\n",
        "\n",
        "    class ServerModel(nn.Module):\n",
        "        def __init__(self):\n",
        "            super(ServerModel, self).__init__()\n",
        "            resnet = models.resnet18(pretrained=True)\n",
        "            self.feature_extractor = nn.Sequential(*list(resnet.children())[server_start:server_end])\n",
        "            self.classifier = nn.Linear(512, output_classes)\n",
        "\n",
        "        def forward(self, x):\n",
        "            x = self.feature_extractor(x)\n",
        "            x = torch.flatten(x, 1)\n",
        "            return self.classifier(x)\n",
        "\n",
        "    return ClientModel, ServerModel"
      ]
    },
    {
      "cell_type": "code",
      "execution_count": null,
      "metadata": {
        "id": "j0sMHOA-pw1q"
      },
      "outputs": [],
      "source": [
        "# Function to train a client\n",
        "def train_client(client_model, server_model, train_loader, criterion, optimizer, device, epochs=5):\n",
        "    client_model.eval()  # Client model is frozen\n",
        "    for epoch in range(epochs):\n",
        "        running_loss = 0.0\n",
        "        for inputs, labels in train_loader:\n",
        "            inputs, labels = inputs.to(device), labels.to(device)\n",
        "            with torch.no_grad():\n",
        "                intermediate_output = client_model(inputs)\n",
        "            optimizer.zero_grad()\n",
        "            outputs = server_model(intermediate_output)\n",
        "            loss = criterion(outputs, labels)\n",
        "            loss.backward()\n",
        "            optimizer.step()\n",
        "            running_loss += loss.item()\n",
        "\n",
        "        print(f\"Epoch {epoch + 1}, Loss: {running_loss / len(train_loader):.4f}\")\n",
        "\n"
      ]
    },
    {
      "cell_type": "code",
      "execution_count": null,
      "metadata": {
        "id": "yqN0Lxozvu2Z"
      },
      "outputs": [],
      "source": [
        "# Federated averaging function\n",
        "def federated_averaging(server_models, num_clients):\n",
        "    averaged_state_dict = {\n",
        "        key: torch.stack([server_models[c].state_dict()[key].float() for c in range(num_clients)]).mean(0)\n",
        "        if server_models[0].state_dict()[key].dtype in [torch.float32, torch.float64] else server_models[0].state_dict()[key]\n",
        "        for key in server_models[0].state_dict()\n",
        "    }\n",
        "    averaged_model = server_models[0].__class__()\n",
        "    averaged_model.load_state_dict(averaged_state_dict)\n",
        "    return averaged_model"
      ]
    },
    {
      "cell_type": "code",
      "execution_count": null,
      "metadata": {
        "id": "XK8XOHKVp_um"
      },
      "outputs": [],
      "source": [
        "# Function to evaluate models\n",
        "def evaluate_model(client_model, server_model, test_loader, device):\n",
        "    client_model.eval()\n",
        "    server_model.eval()\n",
        "    correct, total = 0, 0\n",
        "\n",
        "    with torch.no_grad():\n",
        "        for inputs, labels in test_loader:\n",
        "            inputs, labels = inputs.to(device), labels.to(device)\n",
        "            intermediate_output = client_model(inputs)\n",
        "            outputs = server_model(intermediate_output)\n",
        "            _, predicted = torch.max(outputs, 1)\n",
        "            total += labels.size(0)\n",
        "            correct += (predicted == labels).sum().item()\n",
        "\n",
        "    return 100 * correct / total"
      ]
    },
    {
      "cell_type": "code",
      "execution_count": null,
      "metadata": {
        "colab": {
          "background_save": true,
          "base_uri": "https://localhost:8080/"
        },
        "id": "aaWx1PN9qD9Y",
        "outputId": "1ba0339e-f9db-4df5-b6b5-db2774856cc9"
      },
      "outputs": [
        {
          "name": "stdout",
          "output_type": "stream",
          "text": [
            "Files already downloaded and verified\n",
            "Files already downloaded and verified\n",
            "\n",
            "Training Client 1\n",
            "Epoch 1, Loss: 2.3497\n",
            "Epoch 2, Loss: 2.0476\n",
            "Epoch 3, Loss: 1.7757\n",
            "Epoch 4, Loss: 1.5271\n",
            "Epoch 5, Loss: 1.3528\n",
            "\n",
            "Training Client 2\n",
            "Epoch 1, Loss: 2.3116\n",
            "Epoch 2, Loss: 2.0590\n",
            "Epoch 3, Loss: 1.7802\n",
            "Epoch 4, Loss: 1.5473\n",
            "Epoch 5, Loss: 1.3919\n",
            "\n",
            "Training Client 3\n",
            "Epoch 1, Loss: 2.3843\n",
            "Epoch 2, Loss: 2.0683\n",
            "Epoch 3, Loss: 1.7760\n",
            "Epoch 4, Loss: 1.5524\n",
            "Epoch 5, Loss: 1.3858\n",
            "\n",
            "Training Client 4\n",
            "Epoch 1, Loss: 2.3718\n",
            "Epoch 2, Loss: 2.0571\n",
            "Epoch 3, Loss: 1.7492\n",
            "Epoch 4, Loss: 1.5136\n",
            "Epoch 5, Loss: 1.3368\n",
            "\n",
            "Training Client 5\n",
            "Epoch 1, Loss: 2.4294\n",
            "Epoch 2, Loss: 2.1347\n",
            "Epoch 3, Loss: 1.8136\n",
            "Epoch 4, Loss: 1.5661\n",
            "Epoch 5, Loss: 1.4142\n",
            "\n",
            "Evaluating Individual Client Models\n",
            "Client 1 Accuracy: 60.00%\n",
            "Client 2 Accuracy: 54.00%\n",
            "Client 3 Accuracy: 64.00%\n",
            "Client 4 Accuracy: 54.00%\n",
            "Client 5 Accuracy: 44.00%\n",
            "\n",
            "Evaluating Averaged Model\n",
            "Averaged Model Accuracy: 64.00%\n"
          ]
        }
      ],
      "source": [
        "\n",
        "# Main script\n",
        "if __name__ == \"__main__\":\n",
        "    device = torch.device(\"cuda\" if torch.cuda.is_available() else \"cpu\")\n",
        "    train_loaders, test_loader = get_datasets()\n",
        "    ClientModel, ServerModel = get_resnet_model(1, 1, -1)\n",
        "\n",
        "    num_clients = 5\n",
        "    epochs = 5\n",
        "\n",
        "    client_models = [ClientModel().to(device) for _ in range(num_clients)]\n",
        "    server_models = [ServerModel().to(device) for _ in range(num_clients)]\n",
        "\n",
        "    criterion = nn.CrossEntropyLoss()\n",
        "\n",
        "    # Train each client's server model\n",
        "    for client_id in range(num_clients):\n",
        "        print(f\"\\nTraining Client {client_id + 1}\")\n",
        "        server_optimizer = optim.SGD(server_models[client_id].classifier.parameters(), lr=0.001, momentum=0.9)\n",
        "        train_client(client_models[client_id], server_models[client_id], train_loaders[client_id], criterion, server_optimizer, device, epochs)\n",
        "\n",
        "    # Federated Averaging\n",
        "    averaged_server_model = federated_averaging(server_models, num_clients).to(device)\n",
        "\n",
        "    # Evaluation\n",
        "    print(\"\\nEvaluating Individual Client Models\")\n",
        "    for client_id in range(num_clients):\n",
        "        accuracy = evaluate_model(client_models[client_id], server_models[client_id], test_loader, device)\n",
        "        print(f\"Client {client_id + 1} Accuracy: {accuracy:.2f}%\")\n",
        "\n",
        "    print(\"\\nEvaluating Averaged Model\")\n",
        "    average_accuracy = evaluate_model(client_models[0], averaged_server_model, test_loader, device)\n",
        "    print(f\"Averaged Model Accuracy: {average_accuracy:.2f}%\")"
      ]
    }
  ],
  "metadata": {
    "colab": {
      "provenance": []
    },
    "kernelspec": {
      "display_name": "Python 3",
      "name": "python3"
    },
    "language_info": {
      "name": "python"
    }
  },
  "nbformat": 4,
  "nbformat_minor": 0
}